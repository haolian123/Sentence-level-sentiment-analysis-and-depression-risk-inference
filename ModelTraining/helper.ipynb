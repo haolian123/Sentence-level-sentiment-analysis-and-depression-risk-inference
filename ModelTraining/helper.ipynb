{
 "cells": [
  {
   "cell_type": "markdown",
   "id": "33ac8e9c-2cd6-4ea8-89d9-8464b43cb6cd",
   "metadata": {},
   "source": [
    "# 划分数据集"
   ]
  },
  {
   "cell_type": "code",
   "execution_count": 13,
   "id": "9b8ffe4f-affa-44b5-ba5f-3b8500a8c22d",
   "metadata": {
    "execution": {
     "iopub.execute_input": "2023-07-20T07:22:08.855849Z",
     "iopub.status.busy": "2023-07-20T07:22:08.854890Z",
     "iopub.status.idle": "2023-07-20T07:22:09.063852Z",
     "shell.execute_reply": "2023-07-20T07:22:09.063024Z",
     "shell.execute_reply.started": "2023-07-20T07:22:08.855813Z"
    },
    "scrolled": true,
    "tags": []
   },
   "outputs": [],
   "source": [
    "import pandas as pd\n",
    "from sklearn.model_selection import train_test_split\n",
    "\n",
    "# 读取数据集\n",
    "data = pd.read_csv('dataSet.tsv', delimiter='\\t')\n",
    "\n",
    "# 划分训练集和剩余数据\n",
    "train_data, remaining_data = train_test_split(data, test_size=0.2, random_state=42)\n",
    "\n",
    "# 划分验证集和测试集\n",
    "valid_data, test_data = train_test_split(remaining_data, test_size=0.5, random_state=42)\n",
    "\n",
    "# 保存划分后的数据集\n",
    "train_data.to_csv('训练集.tsv', sep='\\t', index=False)\n",
    "valid_data.to_csv('验证集.tsv', sep='\\t', index=False)\n",
    "test_data.to_csv('测试集.tsv', sep='\\t', index=False)"
   ]
  }
 ],
 "metadata": {
  "kernelspec": {
   "display_name": "Python 3",
   "language": "python",
   "name": "py35-paddle1.2.0"
  },
  "language_info": {
   "codemirror_mode": {
    "name": "ipython",
    "version": 3
   },
   "file_extension": ".py",
   "mimetype": "text/x-python",
   "name": "python",
   "nbconvert_exporter": "python",
   "pygments_lexer": "ipython3",
   "version": "3.10.10"
  }
 },
 "nbformat": 4,
 "nbformat_minor": 5
}
